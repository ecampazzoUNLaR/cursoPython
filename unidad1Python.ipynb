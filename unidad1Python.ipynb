{
 "cells": [
  {
   "cell_type": "markdown",
   "id": "247c7a7e-8633-464b-8c0e-71abc37d66fc",
   "metadata": {
    "tags": []
   },
   "source": [
    "# Tipos de Datos"
   ]
  },
  {
   "cell_type": "markdown",
   "id": "27b2d28c-1e74-46df-add8-6d169a6d68b3",
   "metadata": {},
   "source": [
    "## Booleano, entero, flotante, complejo, cadena, tupla, lista, conjunto y diccionario"
   ]
  },
  {
   "cell_type": "code",
   "execution_count": 1,
   "id": "ba93ee0e-d674-4fef-b20b-bcbf33909c80",
   "metadata": {},
   "outputs": [],
   "source": [
    "# Booleano -> bool\n",
    "\n",
    "a = True\n"
   ]
  },
  {
   "cell_type": "code",
   "execution_count": 2,
   "id": "d9975188-b39a-4bd3-88e4-08410f2ed15e",
   "metadata": {},
   "outputs": [
    {
     "data": {
      "text/plain": [
       "bool"
      ]
     },
     "execution_count": 2,
     "metadata": {},
     "output_type": "execute_result"
    }
   ],
   "source": [
    "type(a)"
   ]
  },
  {
   "cell_type": "code",
   "execution_count": 3,
   "id": "a1b0b4d5-6d1f-4d69-a96b-5fc9abfa582c",
   "metadata": {},
   "outputs": [
    {
     "data": {
      "text/plain": [
       "True"
      ]
     },
     "execution_count": 3,
     "metadata": {},
     "output_type": "execute_result"
    }
   ],
   "source": [
    "a\n"
   ]
  },
  {
   "cell_type": "code",
   "execution_count": 9,
   "id": "25460580-f132-45d9-b8fc-52718cfe262e",
   "metadata": {},
   "outputs": [
    {
     "data": {
      "text/plain": [
       "10"
      ]
     },
     "execution_count": 9,
     "metadata": {},
     "output_type": "execute_result"
    }
   ],
   "source": [
    "# Entero -> int\n",
    "b = 10\n",
    "b"
   ]
  },
  {
   "cell_type": "code",
   "execution_count": 8,
   "id": "34cd952c-fd26-4905-9feb-edfca6db199d",
   "metadata": {},
   "outputs": [
    {
     "data": {
      "text/plain": [
       "int"
      ]
     },
     "execution_count": 8,
     "metadata": {},
     "output_type": "execute_result"
    }
   ],
   "source": [
    "type(b)\n"
   ]
  },
  {
   "cell_type": "code",
   "execution_count": 11,
   "id": "73d70870-f173-46ee-9fbf-855d4004548e",
   "metadata": {},
   "outputs": [
    {
     "data": {
      "text/plain": [
       "1.2"
      ]
     },
     "execution_count": 11,
     "metadata": {},
     "output_type": "execute_result"
    }
   ],
   "source": [
    "#Flotante -> float\n",
    "c=1.2\n",
    "c"
   ]
  },
  {
   "cell_type": "code",
   "execution_count": 12,
   "id": "711113ed-9875-4cb0-9490-7a3373eb255a",
   "metadata": {},
   "outputs": [
    {
     "data": {
      "text/plain": [
       "float"
      ]
     },
     "execution_count": 12,
     "metadata": {},
     "output_type": "execute_result"
    }
   ],
   "source": [
    "type (c)"
   ]
  },
  {
   "cell_type": "code",
   "execution_count": 15,
   "id": "2041a28a-2101-4cfa-bd32-c3c685276174",
   "metadata": {},
   "outputs": [
    {
     "data": {
      "text/plain": [
       "2j"
      ]
     },
     "execution_count": 15,
     "metadata": {},
     "output_type": "execute_result"
    }
   ],
   "source": [
    "# Complejo -> complex\n",
    "d=2j\n",
    "d"
   ]
  },
  {
   "cell_type": "code",
   "execution_count": 17,
   "id": "52990f06-765d-44c8-bfce-ae48cc4ba90e",
   "metadata": {},
   "outputs": [
    {
     "data": {
      "text/plain": [
       "complex"
      ]
     },
     "execution_count": 17,
     "metadata": {},
     "output_type": "execute_result"
    }
   ],
   "source": [
    "type(d)"
   ]
  },
  {
   "cell_type": "code",
   "execution_count": 20,
   "id": "71f2bae8-070f-4c9b-8ea8-d9b3dba23acc",
   "metadata": {},
   "outputs": [
    {
     "data": {
      "text/plain": [
       "'hola mundoHola Mundo'"
      ]
     },
     "execution_count": 20,
     "metadata": {},
     "output_type": "execute_result"
    }
   ],
   "source": [
    "# Cadena -> str\n",
    "e='hola mundo'\n",
    "f=\"Hola Mundo\"\n",
    "e+f \n"
   ]
  },
  {
   "cell_type": "code",
   "execution_count": 21,
   "id": "081a095d-4a6f-4410-8511-902244659b73",
   "metadata": {},
   "outputs": [
    {
     "data": {
      "text/plain": [
       "(1, 2, 3)"
      ]
     },
     "execution_count": 21,
     "metadata": {},
     "output_type": "execute_result"
    }
   ],
   "source": [
    "# Tupla -> tuple\n",
    "g = (1,2,3)\n",
    "g"
   ]
  },
  {
   "cell_type": "code",
   "execution_count": 22,
   "id": "10b64f9b-20b0-4a7c-b701-e59d417f0697",
   "metadata": {},
   "outputs": [
    {
     "data": {
      "text/plain": [
       "tuple"
      ]
     },
     "execution_count": 22,
     "metadata": {},
     "output_type": "execute_result"
    }
   ],
   "source": [
    "type(g)"
   ]
  },
  {
   "cell_type": "code",
   "execution_count": 25,
   "id": "a14b9313-2739-4b9e-9d01-8308350f9746",
   "metadata": {},
   "outputs": [
    {
     "data": {
      "text/plain": [
       "['Chrome', 0, 'Hola']"
      ]
     },
     "execution_count": 25,
     "metadata": {},
     "output_type": "execute_result"
    }
   ],
   "source": [
    "#Lista -> list\n",
    "h=['Chrome',0,'Hola']\n",
    "h\n"
   ]
  },
  {
   "cell_type": "code",
   "execution_count": 26,
   "id": "5b01b220-e2af-4493-a25b-6648fd972367",
   "metadata": {},
   "outputs": [
    {
     "data": {
      "text/plain": [
       "list"
      ]
     },
     "execution_count": 26,
     "metadata": {},
     "output_type": "execute_result"
    }
   ],
   "source": [
    "type(h)"
   ]
  },
  {
   "cell_type": "code",
   "execution_count": 31,
   "id": "02d9c6b9-54a4-4067-ba4d-5e6e339df0d0",
   "metadata": {},
   "outputs": [
    {
     "data": {
      "text/plain": [
       "{2, 3, 4}"
      ]
     },
     "execution_count": 31,
     "metadata": {},
     "output_type": "execute_result"
    }
   ],
   "source": [
    "#Set -> set\n",
    "i=set([2,3,4])\n",
    "i"
   ]
  },
  {
   "cell_type": "code",
   "execution_count": 32,
   "id": "4b6196bd-bd22-4b25-9620-2cc90c87620b",
   "metadata": {},
   "outputs": [
    {
     "data": {
      "text/plain": [
       "set"
      ]
     },
     "execution_count": 32,
     "metadata": {},
     "output_type": "execute_result"
    }
   ],
   "source": [
    "type(i)"
   ]
  },
  {
   "cell_type": "code",
   "execution_count": 33,
   "id": "8b8faa2e-b455-499a-877b-19082ef4efaf",
   "metadata": {},
   "outputs": [
    {
     "data": {
      "text/plain": [
       "{'hola': 1, 'Hi': 2}"
      ]
     },
     "execution_count": 33,
     "metadata": {},
     "output_type": "execute_result"
    }
   ],
   "source": [
    "# Diccionario -> dict\n",
    "j={'hola':1,'Hi':2}\n",
    "j"
   ]
  },
  {
   "cell_type": "code",
   "execution_count": 34,
   "id": "5f1677f5-34a5-4367-bbea-0e1e49e2206d",
   "metadata": {},
   "outputs": [
    {
     "data": {
      "text/plain": [
       "dict"
      ]
     },
     "execution_count": 34,
     "metadata": {},
     "output_type": "execute_result"
    }
   ],
   "source": [
    "type(j)"
   ]
  },
  {
   "cell_type": "code",
   "execution_count": 35,
   "id": "611b5d0d-7b91-4773-ac77-c43010acab04",
   "metadata": {},
   "outputs": [
    {
     "data": {
      "text/plain": [
       "1"
      ]
     },
     "execution_count": 35,
     "metadata": {},
     "output_type": "execute_result"
    }
   ],
   "source": [
    "j['hola']"
   ]
  },
  {
   "cell_type": "markdown",
   "id": "5341db45-aaa5-45ba-8ac5-477c43a804e5",
   "metadata": {},
   "source": [
    "## Mutabilidad \n"
   ]
  },
  {
   "cell_type": "code",
   "execution_count": 4,
   "id": "997bd3be-dec0-445b-a55a-81cb7919111b",
   "metadata": {},
   "outputs": [
    {
     "data": {
      "text/plain": [
       "9"
      ]
     },
     "execution_count": 4,
     "metadata": {},
     "output_type": "execute_result"
    }
   ],
   "source": [
    "a = 9\n",
    "b = a\n",
    "b"
   ]
  },
  {
   "cell_type": "code",
   "execution_count": 37,
   "id": "ae612207-c759-4d70-86e8-86e2ac916fd0",
   "metadata": {},
   "outputs": [
    {
     "data": {
      "text/plain": [
       "2344918870576"
      ]
     },
     "execution_count": 37,
     "metadata": {},
     "output_type": "execute_result"
    }
   ],
   "source": [
    "id(a)"
   ]
  },
  {
   "cell_type": "code",
   "execution_count": 38,
   "id": "603ede55-72f9-47fb-afeb-1bc4540a68f0",
   "metadata": {},
   "outputs": [
    {
     "data": {
      "text/plain": [
       "2344918870576"
      ]
     },
     "execution_count": 38,
     "metadata": {},
     "output_type": "execute_result"
    }
   ],
   "source": [
    "id(b)"
   ]
  },
  {
   "cell_type": "code",
   "execution_count": 39,
   "id": "dfaa19fc-f796-4181-be5c-bc70fed2bd19",
   "metadata": {},
   "outputs": [],
   "source": [
    "a=10"
   ]
  },
  {
   "cell_type": "code",
   "execution_count": 40,
   "id": "dbb87211-2253-48c1-9561-c34d7f3da2b7",
   "metadata": {},
   "outputs": [
    {
     "data": {
      "text/plain": [
       "9"
      ]
     },
     "execution_count": 40,
     "metadata": {},
     "output_type": "execute_result"
    }
   ],
   "source": [
    "b"
   ]
  },
  {
   "cell_type": "code",
   "execution_count": 41,
   "id": "615b0b54-455f-4b6b-9ed6-763101fa0686",
   "metadata": {},
   "outputs": [
    {
     "data": {
      "text/plain": [
       "2344918870608"
      ]
     },
     "execution_count": 41,
     "metadata": {},
     "output_type": "execute_result"
    }
   ],
   "source": [
    "id(a)"
   ]
  },
  {
   "cell_type": "code",
   "execution_count": 42,
   "id": "70db02b4-f525-4209-9528-ffce6b2e3721",
   "metadata": {},
   "outputs": [
    {
     "data": {
      "text/plain": [
       "[4, 2, 3]"
      ]
     },
     "execution_count": 42,
     "metadata": {},
     "output_type": "execute_result"
    }
   ],
   "source": [
    "original=[1,2,3]\n",
    "copia = original\n",
    "original[0]=4\n",
    "copia"
   ]
  },
  {
   "cell_type": "code",
   "execution_count": 44,
   "id": "9e8a61ef-703a-48f6-8acb-ea15b63883ac",
   "metadata": {},
   "outputs": [
    {
     "data": {
      "text/plain": [
       "[4, 2, 3]"
      ]
     },
     "execution_count": 44,
     "metadata": {},
     "output_type": "execute_result"
    }
   ],
   "source": [
    "original =[4,5,6]\n",
    "copia\n"
   ]
  },
  {
   "cell_type": "markdown",
   "id": "3e9faa4f",
   "metadata": {},
   "source": [
    "# Conversión de tipos - conversión implícita\n"
   ]
  },
  {
   "cell_type": "markdown",
   "id": "d39710ee",
   "metadata": {},
   "source": [
    "Cuando mezclamos enteros, booleanos y flotantes, Python realiza automáticamente una\n",
    "conversión implícita (o promoción) de los valores al tipo de «mayor rango». Veamos algunos\n",
    "ejemplos de esto:\n"
   ]
  },
  {
   "cell_type": "code",
   "execution_count": 5,
   "id": "425ab7d3",
   "metadata": {},
   "outputs": [
    {
     "data": {
      "text/plain": [
       "24"
      ]
     },
     "execution_count": 5,
     "metadata": {},
     "output_type": "execute_result"
    }
   ],
   "source": [
    "True +23\n"
   ]
  },
  {
   "cell_type": "code",
   "execution_count": 7,
   "id": "450971e9",
   "metadata": {},
   "outputs": [
    {
     "data": {
      "text/plain": [
       "int"
      ]
     },
     "execution_count": 7,
     "metadata": {},
     "output_type": "execute_result"
    }
   ],
   "source": [
    "type(7 * False)"
   ]
  },
  {
   "cell_type": "code",
   "execution_count": 8,
   "id": "f7958018",
   "metadata": {},
   "outputs": [
    {
     "data": {
      "text/plain": [
       "22.1"
      ]
     },
     "execution_count": 8,
     "metadata": {},
     "output_type": "execute_result"
    }
   ],
   "source": [
    "10 + 12.1"
   ]
  },
  {
   "cell_type": "markdown",
   "id": "c30b166f",
   "metadata": {},
   "source": [
    "Determinacion del tipo de variable. Uso de type() y isinstance()."
   ]
  },
  {
   "cell_type": "code",
   "execution_count": 1,
   "id": "4aea56e0",
   "metadata": {},
   "outputs": [
    {
     "data": {
      "text/plain": [
       "float"
      ]
     },
     "execution_count": 1,
     "metadata": {},
     "output_type": "execute_result"
    }
   ],
   "source": [
    "type(3.3)"
   ]
  },
  {
   "cell_type": "code",
   "execution_count": 3,
   "id": "631fcf2b",
   "metadata": {},
   "outputs": [
    {
     "data": {
      "text/plain": [
       "True"
      ]
     },
     "execution_count": 3,
     "metadata": {},
     "output_type": "execute_result"
    }
   ],
   "source": [
    "isinstance(False,bool)"
   ]
  },
  {
   "cell_type": "markdown",
   "id": "a3dfbb61",
   "metadata": {},
   "source": [
    "Redondeo y truncado de valores round() vs int()"
   ]
  },
  {
   "cell_type": "code",
   "execution_count": 4,
   "id": "d7125878",
   "metadata": {},
   "outputs": [
    {
     "data": {
      "text/plain": [
       "6"
      ]
     },
     "execution_count": 4,
     "metadata": {},
     "output_type": "execute_result"
    }
   ],
   "source": [
    "round(5.6)"
   ]
  },
  {
   "cell_type": "code",
   "execution_count": 5,
   "id": "08253c21",
   "metadata": {},
   "outputs": [
    {
     "data": {
      "text/plain": [
       "5"
      ]
     },
     "execution_count": 5,
     "metadata": {},
     "output_type": "execute_result"
    }
   ],
   "source": [
    "int(5.6)"
   ]
  },
  {
   "cell_type": "markdown",
   "id": "44bbeabf",
   "metadata": {},
   "source": [
    "Límite del punto flotante\n"
   ]
  },
  {
   "cell_type": "code",
   "execution_count": 6,
   "id": "13cea765",
   "metadata": {},
   "outputs": [
    {
     "data": {
      "text/plain": [
       "2.2250738585072014e-308"
      ]
     },
     "execution_count": 6,
     "metadata": {},
     "output_type": "execute_result"
    }
   ],
   "source": [
    "import sys\n",
    "sys.float_info.min"
   ]
  },
  {
   "cell_type": "code",
   "execution_count": 7,
   "id": "f9bb45c0",
   "metadata": {},
   "outputs": [
    {
     "data": {
      "text/plain": [
       "1.7976931348623157e+308"
      ]
     },
     "execution_count": 7,
     "metadata": {},
     "output_type": "execute_result"
    }
   ],
   "source": [
    "sys.float_info.max"
   ]
  },
  {
   "cell_type": "markdown",
   "id": "9f4903e1",
   "metadata": {},
   "source": [
    "Bases de sistemas de numeración:<br>\n",
    "-Binario     bin()  0b <br>\n",
    "-Octal       oct()  0o<br>\n",
    "-Hexadecimal hex() 0x <br>              "
   ]
  },
  {
   "cell_type": "code",
   "execution_count": 8,
   "id": "fc744855",
   "metadata": {},
   "outputs": [
    {
     "data": {
      "text/plain": [
       "341"
      ]
     },
     "execution_count": 8,
     "metadata": {},
     "output_type": "execute_result"
    }
   ],
   "source": [
    "a = 0b101010101\n",
    "a"
   ]
  },
  {
   "cell_type": "code",
   "execution_count": 13,
   "id": "4b5de3df",
   "metadata": {},
   "outputs": [
    {
     "data": {
      "text/plain": [
       "'0b101010101'"
      ]
     },
     "execution_count": 13,
     "metadata": {},
     "output_type": "execute_result"
    }
   ],
   "source": [
    "bin(a)"
   ]
  },
  {
   "cell_type": "code",
   "execution_count": 10,
   "id": "dc509667",
   "metadata": {},
   "outputs": [
    {
     "data": {
      "text/plain": [
       "1810"
      ]
     },
     "execution_count": 10,
     "metadata": {},
     "output_type": "execute_result"
    }
   ],
   "source": [
    "b = 0o3422\n",
    "b"
   ]
  },
  {
   "cell_type": "code",
   "execution_count": 14,
   "id": "4a930707",
   "metadata": {},
   "outputs": [
    {
     "data": {
      "text/plain": [
       "'0o3422'"
      ]
     },
     "execution_count": 14,
     "metadata": {},
     "output_type": "execute_result"
    }
   ],
   "source": [
    "oct(b)"
   ]
  },
  {
   "cell_type": "code",
   "execution_count": 12,
   "id": "da6d12b0",
   "metadata": {},
   "outputs": [
    {
     "data": {
      "text/plain": [
       "1040351"
      ]
     },
     "execution_count": 12,
     "metadata": {},
     "output_type": "execute_result"
    }
   ],
   "source": [
    "c = 0xfdfdf\n",
    "c"
   ]
  },
  {
   "cell_type": "code",
   "execution_count": 15,
   "id": "5b3a2ba6",
   "metadata": {},
   "outputs": [
    {
     "data": {
      "text/plain": [
       "'0xfdfdf'"
      ]
     },
     "execution_count": 15,
     "metadata": {},
     "output_type": "execute_result"
    }
   ],
   "source": [
    "hex(c)"
   ]
  },
  {
   "cell_type": "markdown",
   "id": "66df07e3",
   "metadata": {},
   "source": [
    "Función sqrt (raiz cuadrada) y Random   (números aleatorios)"
   ]
  },
  {
   "cell_type": "code",
   "execution_count": 21,
   "id": "12f2ccba",
   "metadata": {},
   "outputs": [
    {
     "data": {
      "text/plain": [
       "2.23606797749979"
      ]
     },
     "execution_count": 21,
     "metadata": {},
     "output_type": "execute_result"
    }
   ],
   "source": [
    "import math\n",
    "math.sqrt(5)"
   ]
  },
  {
   "cell_type": "code",
   "execution_count": 19,
   "id": "81b05a75",
   "metadata": {},
   "outputs": [
    {
     "name": "stdout",
     "output_type": "stream",
     "text": [
      "14\n",
      "45\n",
      "77\n",
      "70\n",
      "73\n",
      "43\n",
      "80\n",
      "53\n",
      "8\n",
      "45\n"
     ]
    }
   ],
   "source": [
    "import random\n",
    "random.seed(100)\n",
    "for _ in range(10):\n",
    "    randn=random.uniform(0,100)\n",
    "    print(int(randn))"
   ]
  },
  {
   "cell_type": "markdown",
   "id": "c6abdb58",
   "metadata": {},
   "source": [
    "# Cadenas de texto - string <br>\n",
    "\n"
   ]
  },
  {
   "cell_type": "code",
   "execution_count": 22,
   "id": "c80d4aff",
   "metadata": {},
   "outputs": [
    {
     "data": {
      "text/plain": [
       "'Esta es una cadena de texto'"
      ]
     },
     "execution_count": 22,
     "metadata": {},
     "output_type": "execute_result"
    }
   ],
   "source": [
    "'Esta es una cadena de texto'"
   ]
  },
  {
   "cell_type": "code",
   "execution_count": 24,
   "id": "317f1914",
   "metadata": {},
   "outputs": [
    {
     "data": {
      "text/plain": [
       "'Comillas dobles \"dentro de una cadena\" de texto'"
      ]
     },
     "execution_count": 24,
     "metadata": {},
     "output_type": "execute_result"
    }
   ],
   "source": [
    "'Comillas dobles \"dentro de una cadena\" de texto'"
   ]
  },
  {
   "cell_type": "code",
   "execution_count": 25,
   "id": "14ec372c",
   "metadata": {},
   "outputs": [
    {
     "data": {
      "text/plain": [
       "\"Comillas simples ' dentro de una cadena ' de texto\""
      ]
     },
     "execution_count": 25,
     "metadata": {},
     "output_type": "execute_result"
    }
   ],
   "source": [
    "'Comillas simples \\' dentro de una cadena \\' de texto'"
   ]
  },
  {
   "cell_type": "code",
   "execution_count": 26,
   "id": "bd58c25d",
   "metadata": {},
   "outputs": [
    {
     "data": {
      "text/plain": [
       "\"Comillas simples dentro de una 'cadena' de texto\""
      ]
     },
     "execution_count": 26,
     "metadata": {},
     "output_type": "execute_result"
    }
   ],
   "source": [
    "\"Comillas simples dentro de una 'cadena' de texto\""
   ]
  },
  {
   "cell_type": "code",
   "execution_count": 31,
   "id": "7d94e577",
   "metadata": {},
   "outputs": [
    {
     "data": {
      "text/plain": [
       "'hola <br>\\npython\\ncomo estás'"
      ]
     },
     "execution_count": 31,
     "metadata": {},
     "output_type": "execute_result"
    }
   ],
   "source": [
    "a= '''hola \n",
    "python\n",
    "como estás'''\n",
    "a"
   ]
  },
  {
   "cell_type": "code",
   "execution_count": 33,
   "id": "e62fe76d",
   "metadata": {},
   "outputs": [
    {
     "data": {
      "text/plain": [
       "''"
      ]
     },
     "execution_count": 33,
     "metadata": {},
     "output_type": "execute_result"
    }
   ],
   "source": [
    "g='' #cadena vacía\n",
    "g"
   ]
  },
  {
   "cell_type": "markdown",
   "id": "c136cf54",
   "metadata": {},
   "source": [
    "Conversión a texto\n"
   ]
  },
  {
   "cell_type": "code",
   "execution_count": 35,
   "id": "9c541e66",
   "metadata": {},
   "outputs": [
    {
     "data": {
      "text/plain": [
       "'True'"
      ]
     },
     "execution_count": 35,
     "metadata": {},
     "output_type": "execute_result"
    }
   ],
   "source": [
    "\n",
    "str(True)"
   ]
  },
  {
   "cell_type": "code",
   "execution_count": 36,
   "id": "01059484",
   "metadata": {},
   "outputs": [
    {
     "data": {
      "text/plain": [
       "'10'"
      ]
     },
     "execution_count": 36,
     "metadata": {},
     "output_type": "execute_result"
    }
   ],
   "source": [
    "str(10)"
   ]
  },
  {
   "cell_type": "code",
   "execution_count": 37,
   "id": "d8b90248",
   "metadata": {},
   "outputs": [
    {
     "data": {
      "text/plain": [
       "'21.3'"
      ]
     },
     "execution_count": 37,
     "metadata": {},
     "output_type": "execute_result"
    }
   ],
   "source": [
    "str(21.3)"
   ]
  },
  {
   "cell_type": "markdown",
   "id": "59c2ff1f",
   "metadata": {},
   "source": [
    "Secuencias de Escape\n"
   ]
  },
  {
   "cell_type": "code",
   "execution_count": 40,
   "id": "6296ab38",
   "metadata": {},
   "outputs": [
    {
     "name": "stdout",
     "output_type": "stream",
     "text": [
      "Primera línea\n",
      "Segunda línea\n",
      "Tercera línea\n"
     ]
    }
   ],
   "source": [
    "# Salto de línea\n",
    "msg = 'Primera línea\\nSegunda línea\\nTercera línea'\n",
    "print(msg)\n"
   ]
  },
  {
   "cell_type": "code",
   "execution_count": 41,
   "id": "6298d0ec",
   "metadata": {},
   "outputs": [
    {
     "name": "stdout",
     "output_type": "stream",
     "text": [
      "hola \n",
      "como \n",
      "estas\n"
     ]
    }
   ],
   "source": [
    "msg = '''hola \n",
    "como \n",
    "estas'''\n",
    "print(msg)"
   ]
  },
  {
   "cell_type": "code",
   "execution_count": 42,
   "id": "45d4d75a",
   "metadata": {},
   "outputs": [
    {
     "name": "stdout",
     "output_type": "stream",
     "text": [
      "Valor= \t34\n"
     ]
    }
   ],
   "source": [
    "# tabulador\n",
    "msg = \"Valor= \\t34\"\n",
    "print(msg)"
   ]
  },
  {
   "cell_type": "code",
   "execution_count": 43,
   "id": "a6f59eb4",
   "metadata": {},
   "outputs": [
    {
     "name": "stdout",
     "output_type": "stream",
     "text": [
      "Necesitamos 'escapar' la comilla simple\n"
     ]
    }
   ],
   "source": [
    "#Comilla simple\n",
    "msg = 'Necesitamos \\'escapar\\' la comilla simple'\n",
    "print(msg)"
   ]
  },
  {
   "cell_type": "code",
   "execution_count": 45,
   "id": "59b6c1a2",
   "metadata": {},
   "outputs": [
    {
     "name": "stdout",
     "output_type": "stream",
     "text": [
      "Capítulo \\ Sección \\ Encabezado\n"
     ]
    }
   ],
   "source": [
    "# Barra invertida\n",
    "msg = 'Capítulo \\\\ Sección \\\\ Encabezado'\n",
    "print(msg)"
   ]
  },
  {
   "cell_type": "markdown",
   "id": "4b0e1b43",
   "metadata": {},
   "source": [
    "Expresiones literales"
   ]
  },
  {
   "cell_type": "code",
   "execution_count": 46,
   "id": "f5ee9735",
   "metadata": {},
   "outputs": [
    {
     "name": "stdout",
     "output_type": "stream",
     "text": [
      "abc\n",
      "def\n"
     ]
    }
   ],
   "source": [
    "text = 'abc\\ndef'\n",
    "print(text)\n"
   ]
  },
  {
   "cell_type": "code",
   "execution_count": 47,
   "id": "cad1cf2d",
   "metadata": {},
   "outputs": [
    {
     "name": "stdout",
     "output_type": "stream",
     "text": [
      "abc\\ndef\n"
     ]
    }
   ],
   "source": [
    "\n",
    "text = r'abc\\ndef'\n",
    "print(text)\n",
    "\n"
   ]
  },
  {
   "cell_type": "code",
   "execution_count": 48,
   "id": "f0d7418f",
   "metadata": {},
   "outputs": [
    {
     "name": "stdout",
     "output_type": "stream",
     "text": [
      "a\tb\tc\n"
     ]
    }
   ],
   "source": [
    "text = 'a\\tb\\tc'\n",
    "print(text)\n",
    "\n"
   ]
  },
  {
   "cell_type": "code",
   "execution_count": 49,
   "id": "58ffd8ab",
   "metadata": {},
   "outputs": [
    {
     "name": "stdout",
     "output_type": "stream",
     "text": [
      "a\\tb\\tc\n"
     ]
    }
   ],
   "source": [
    "text = r'a\\tb\\tc'\n",
    "print(text)\n"
   ]
  },
  {
   "cell_type": "markdown",
   "id": "6ebeca29",
   "metadata": {},
   "source": [
    "# Más sobre el print()"
   ]
  },
  {
   "cell_type": "code",
   "execution_count": 57,
   "id": "05f15572",
   "metadata": {},
   "outputs": [
    {
     "name": "stdout",
     "output_type": "stream",
     "text": [
      "¿Sabes por qué estoy acá? Porque me apasiona\n",
      "¿Sabes por qué estoy acá?|Porque me apasiona\n",
      "Porque me apasiona!!"
     ]
    }
   ],
   "source": [
    "msg1 = '¿Sabes por qué estoy acá?'\n",
    "msg2 = 'Porque me apasiona'\n",
    "print(msg1, msg2)\n",
    "print(msg1, msg2, sep='|') # separador por default es el espacio\n",
    "print(msg2, end='!!') # final de línea por default es el salto de línea\n"
   ]
  },
  {
   "cell_type": "markdown",
   "id": "c2401c5d",
   "metadata": {},
   "source": [
    "# Leer datos del teclado input()"
   ]
  },
  {
   "cell_type": "code",
   "execution_count": 1,
   "id": "51747a48",
   "metadata": {},
   "outputs": [
    {
     "data": {
      "text/plain": [
       "'hola'"
      ]
     },
     "execution_count": 1,
     "metadata": {},
     "output_type": "execute_result"
    }
   ],
   "source": [
    "name = input('Introduce el nombre:')\n",
    "name"
   ]
  },
  {
   "cell_type": "code",
   "execution_count": 2,
   "id": "9f3a41ba",
   "metadata": {},
   "outputs": [
    {
     "data": {
      "text/plain": [
       "str"
      ]
     },
     "execution_count": 2,
     "metadata": {},
     "output_type": "execute_result"
    }
   ],
   "source": [
    "type(name)"
   ]
  },
  {
   "cell_type": "code",
   "execution_count": 62,
   "id": "fe0315a4",
   "metadata": {},
   "outputs": [
    {
     "data": {
      "text/plain": [
       "'34'"
      ]
     },
     "execution_count": 62,
     "metadata": {},
     "output_type": "execute_result"
    }
   ],
   "source": [
    "edad = input('Introduzca la edad:')\n",
    "edad"
   ]
  },
  {
   "cell_type": "code",
   "execution_count": 64,
   "id": "69f37308",
   "metadata": {},
   "outputs": [
    {
     "data": {
      "text/plain": [
       "str"
      ]
     },
     "execution_count": 64,
     "metadata": {},
     "output_type": "execute_result"
    }
   ],
   "source": [
    "type(edad)"
   ]
  },
  {
   "cell_type": "markdown",
   "id": "0f54aaa1",
   "metadata": {},
   "source": [
    "# Operaciones con Strings\n",
    "Combinar, Repetir, Obtener caracteres:\n",
    "\n",
    "\n",
    "Los «strings» están indexados y cada caracter tiene su propia posición. Para obtener un\n",
    "único caracter dentro de una cadena de texto es necesario especificar su índice dentro de\n",
    "corchetes [...]."
   ]
  },
  {
   "cell_type": "code",
   "execution_count": 4,
   "id": "949b8504",
   "metadata": {},
   "outputs": [
    {
     "data": {
      "text/plain": [
       "'no por mucho madrugarse amanece mas temprano'"
      ]
     },
     "execution_count": 4,
     "metadata": {},
     "output_type": "execute_result"
    }
   ],
   "source": [
    "# Podemos combinar dos o más cadenas de texto utilizando el operador +:\n",
    "prov = 'no por mucho madrugar'\n",
    "prov1 = 'se amanece mas temprano'\n",
    "prov + prov1"
   ]
  },
  {
   "cell_type": "code",
   "execution_count": 5,
   "id": "b290012c",
   "metadata": {},
   "outputs": [
    {
     "data": {
      "text/plain": [
       "'no por mucho madrugar, se amanece mas temprano'"
      ]
     },
     "execution_count": 5,
     "metadata": {},
     "output_type": "execute_result"
    }
   ],
   "source": [
    "prov + ', ' +  prov1"
   ]
  },
  {
   "cell_type": "code",
   "execution_count": 7,
   "id": "503d9483",
   "metadata": {},
   "outputs": [
    {
     "data": {
      "text/plain": [
       "'Yahoo, Yahoo, Yahoo, '"
      ]
     },
     "execution_count": 7,
     "metadata": {},
     "output_type": "execute_result"
    }
   ],
   "source": [
    "# Podemos repetir dos o más cadenas de texto utilizando el operador *:\n",
    "\n",
    "reaccion = 'Yahoo'\n",
    "\n",
    "(reaccion + ', ') *3"
   ]
  },
  {
   "cell_type": "code",
   "execution_count": 8,
   "id": "199e51f9",
   "metadata": {},
   "outputs": [
    {
     "data": {
      "text/plain": [
       "'H'"
      ]
     },
     "execution_count": 8,
     "metadata": {},
     "output_type": "execute_result"
    }
   ],
   "source": [
    "# Los «strings» están indexados y cada caracter tiene su propia posición. Para obtener un\n",
    "# único caracter dentro de una cadena de texto es necesario especificar su índice dentro de\n",
    "# corchetes [...].\n",
    "\n",
    "cadena = 'Hola, mundo'\n",
    "\n",
    "cadena[0]"
   ]
  },
  {
   "cell_type": "code",
   "execution_count": 9,
   "id": "e8e784e0",
   "metadata": {},
   "outputs": [
    {
     "data": {
      "text/plain": [
       "'o'"
      ]
     },
     "execution_count": 9,
     "metadata": {},
     "output_type": "execute_result"
    }
   ],
   "source": [
    "cadena[-1]"
   ]
  },
  {
   "cell_type": "code",
   "execution_count": 10,
   "id": "de5d710f",
   "metadata": {},
   "outputs": [
    {
     "data": {
      "text/plain": [
       "'m'"
      ]
     },
     "execution_count": 10,
     "metadata": {},
     "output_type": "execute_result"
    }
   ],
   "source": [
    "cadena[-5]"
   ]
  },
  {
   "cell_type": "markdown",
   "id": "15282df4",
   "metadata": {},
   "source": [
    "Trocear una  cadena\n"
   ]
  },
  {
   "cell_type": "code",
   "execution_count": 13,
   "id": "56c3a131",
   "metadata": {},
   "outputs": [
    {
     "data": {
      "text/plain": [
       "'Agua pasada no mueve molino'"
      ]
     },
     "execution_count": 13,
     "metadata": {},
     "output_type": "execute_result"
    }
   ],
   "source": [
    "proverb = 'Agua pasada no mueve molino'\n",
    "proverb[:]\n"
   ]
  },
  {
   "cell_type": "code",
   "execution_count": 12,
   "id": "54e0291e",
   "metadata": {},
   "outputs": [
    {
     "data": {
      "text/plain": [
       "'no mueve molino'"
      ]
     },
     "execution_count": 12,
     "metadata": {},
     "output_type": "execute_result"
    }
   ],
   "source": [
    "proverb[12:]\n"
   ]
  },
  {
   "cell_type": "code",
   "execution_count": 15,
   "id": "54e0291e",
   "metadata": {},
   "outputs": [
    {
     "data": {
      "text/plain": [
       "'Agua pasada'"
      ]
     },
     "execution_count": 15,
     "metadata": {},
     "output_type": "execute_result"
    }
   ],
   "source": [
    "proverb[:11]\n"
   ]
  },
  {
   "cell_type": "code",
   "execution_count": 16,
   "id": "54e0291e",
   "metadata": {},
   "outputs": [
    {
     "data": {
      "text/plain": [
       "'pasada'"
      ]
     },
     "execution_count": 16,
     "metadata": {},
     "output_type": "execute_result"
    }
   ],
   "source": [
    "proverb[5:11]\n"
   ]
  },
  {
   "cell_type": "code",
   "execution_count": 17,
   "id": "54e0291e",
   "metadata": {},
   "outputs": [
    {
     "data": {
      "text/plain": [
       "'psd'"
      ]
     },
     "execution_count": 17,
     "metadata": {},
     "output_type": "execute_result"
    }
   ],
   "source": [
    "proverb[5:11:2]\n"
   ]
  },
  {
   "cell_type": "markdown",
   "id": "5e70bfd9",
   "metadata": {},
   "source": [
    "Longitud de una cadena"
   ]
  },
  {
   "cell_type": "code",
   "execution_count": 19,
   "id": "1c728167",
   "metadata": {},
   "outputs": [
    {
     "data": {
      "text/plain": [
       "55"
      ]
     },
     "execution_count": 19,
     "metadata": {},
     "output_type": "execute_result"
    }
   ],
   "source": [
    "cadena = 'hola, bienvenidos al mundo de la programación en python'\n",
    "len(cadena)"
   ]
  },
  {
   "cell_type": "code",
   "execution_count": 20,
   "id": "a40cf6ba",
   "metadata": {},
   "outputs": [
    {
     "data": {
      "text/plain": [
       "0"
      ]
     },
     "execution_count": 20,
     "metadata": {},
     "output_type": "execute_result"
    }
   ],
   "source": [
    "vacia = ''\n",
    "len(vacia)"
   ]
  },
  {
   "cell_type": "markdown",
   "id": "0b0a5214",
   "metadata": {},
   "source": [
    "Pertenencia de un elemento"
   ]
  },
  {
   "cell_type": "code",
   "execution_count": 21,
   "id": "4514dbd2",
   "metadata": {},
   "outputs": [
    {
     "data": {
      "text/plain": [
       "True"
      ]
     },
     "execution_count": 21,
     "metadata": {},
     "output_type": "execute_result"
    }
   ],
   "source": [
    "cadena = 'hola, bienvenidos al mundo de la programación en python'\n",
    "'hola' in cadena"
   ]
  },
  {
   "cell_type": "code",
   "execution_count": 22,
   "id": "2e4bd67a",
   "metadata": {},
   "outputs": [
    {
     "data": {
      "text/plain": [
       "False"
      ]
     },
     "execution_count": 22,
     "metadata": {},
     "output_type": "execute_result"
    }
   ],
   "source": [
    "'hello' in cadena"
   ]
  },
  {
   "cell_type": "code",
   "execution_count": 23,
   "id": "83a75295",
   "metadata": {},
   "outputs": [
    {
     "data": {
      "text/plain": [
       "False"
      ]
     },
     "execution_count": 23,
     "metadata": {},
     "output_type": "execute_result"
    }
   ],
   "source": [
    "not('hola' in cadena) "
   ]
  },
  {
   "cell_type": "code",
   "execution_count": 24,
   "id": "8b275669",
   "metadata": {},
   "outputs": [
    {
     "data": {
      "text/plain": [
       "True"
      ]
     },
     "execution_count": 24,
     "metadata": {},
     "output_type": "execute_result"
    }
   ],
   "source": [
    "'hello' not in cadena"
   ]
  },
  {
   "cell_type": "markdown",
   "id": "daf62c08",
   "metadata": {},
   "source": [
    "División de la cadena"
   ]
  },
  {
   "cell_type": "code",
   "execution_count": 29,
   "id": "15580483",
   "metadata": {},
   "outputs": [
    {
     "data": {
      "text/plain": [
       "['este', 'es', 'el', 'mensaje,', 'de', 'python']"
      ]
     },
     "execution_count": 29,
     "metadata": {},
     "output_type": "execute_result"
    }
   ],
   "source": [
    "cadena1 = 'este es el mensaje, de python'\n",
    "cadena1.split()"
   ]
  },
  {
   "cell_type": "code",
   "execution_count": 27,
   "id": "0740c927",
   "metadata": {},
   "outputs": [
    {
     "data": {
      "text/plain": [
       "list"
      ]
     },
     "execution_count": 27,
     "metadata": {},
     "output_type": "execute_result"
    }
   ],
   "source": [
    "type(cadena1.split())"
   ]
  },
  {
   "cell_type": "code",
   "execution_count": 30,
   "id": "38f9a3ad",
   "metadata": {},
   "outputs": [
    {
     "data": {
      "text/plain": [
       "['este es el mensaje', ' de python']"
      ]
     },
     "execution_count": 30,
     "metadata": {},
     "output_type": "execute_result"
    }
   ],
   "source": [
    "cadena1.split(',')"
   ]
  },
  {
   "cell_type": "code",
   "execution_count": 33,
   "id": "524485e1",
   "metadata": {},
   "outputs": [
    {
     "data": {
      "text/plain": [
       "('Pedro', ',', ' Marcelo')"
      ]
     },
     "execution_count": 33,
     "metadata": {},
     "output_type": "execute_result"
    }
   ],
   "source": [
    "# uso de partition() \n",
    "text = 'Pedro, Marcelo'\n",
    "text.partition(',')"
   ]
  },
  {
   "cell_type": "markdown",
   "id": "3bab4db0",
   "metadata": {},
   "source": [
    "Limpiar cadenas\n",
    "Cuando leemos datos del usuario o de cualquier fuente externa de información, es bastante\n",
    "probable que se incluyan en esas cadenas de texto, caracteres de relleno al comienzo y\n",
    "al final. \n",
    "Python nos ofrece la posibilidad de eliminar estos caracteres u otros que no nos\n",
    "interesen.\n"
   ]
  },
  {
   "cell_type": "code",
   "execution_count": 34,
   "id": "4d130cc9",
   "metadata": {},
   "outputs": [
    {
     "data": {
      "text/plain": [
       "'48374983274832'"
      ]
     },
     "execution_count": 34,
     "metadata": {},
     "output_type": "execute_result"
    }
   ],
   "source": [
    "serial_number = '\\n\\t \\n 48374983274832 \\n\\n\\t \\t \\n'\n",
    "serial_number.strip()"
   ]
  },
  {
   "cell_type": "code",
   "execution_count": 35,
   "id": "0bc2e6e7",
   "metadata": {},
   "outputs": [
    {
     "data": {
      "text/plain": [
       "'48374983274832 \\n\\n\\t \\t \\n'"
      ]
     },
     "execution_count": 35,
     "metadata": {},
     "output_type": "execute_result"
    }
   ],
   "source": [
    "# A continuación vamos a hacer «limpieza» por la izquierda (comienzo) y por la derecha (final)\n",
    "# utilizando la función lstrip() y rstrip() respectivamente\n",
    "\n",
    "serial_number.lstrip()\n"
   ]
  },
  {
   "cell_type": "code",
   "execution_count": 36,
   "id": "75f73b3e",
   "metadata": {},
   "outputs": [
    {
     "data": {
      "text/plain": [
       "'\\n\\t \\n 48374983274832'"
      ]
     },
     "execution_count": 36,
     "metadata": {},
     "output_type": "execute_result"
    }
   ],
   "source": [
    "serial_number.rstrip()"
   ]
  },
  {
   "cell_type": "markdown",
   "id": "8b7ddf7f",
   "metadata": {},
   "source": [
    "Busquedas en una cadena"
   ]
  },
  {
   "cell_type": "code",
   "execution_count": 39,
   "id": "be8d727a",
   "metadata": {},
   "outputs": [
    {
     "data": {
      "text/plain": [
       "True"
      ]
     },
     "execution_count": 39,
     "metadata": {},
     "output_type": "execute_result"
    }
   ],
   "source": [
    "# Busquedas dentro de una cadena \n",
    "\n",
    "cadena = '''Aunque las puertas se cierren\n",
    "Aunque no me sienta bien\n",
    "Aunque el tiempo pegue fuerte\n",
    "Sé que voy a estar de pie\n",
    "Yerba buena nunca muere'''\n",
    "\n",
    "# finaliza con ->\n",
    "cadena.startswith('Aunque')"
   ]
  },
  {
   "cell_type": "code",
   "execution_count": 40,
   "id": "be22ee8f",
   "metadata": {},
   "outputs": [
    {
     "data": {
      "text/plain": [
       "False"
      ]
     },
     "execution_count": 40,
     "metadata": {},
     "output_type": "execute_result"
    }
   ],
   "source": [
    "\n",
    "# empieza con ->\n",
    "cadena.endswith('final')"
   ]
  },
  {
   "cell_type": "code",
   "execution_count": 41,
   "id": "baeedf36",
   "metadata": {},
   "outputs": [
    {
     "data": {
      "text/plain": [
       "37"
      ]
     },
     "execution_count": 41,
     "metadata": {},
     "output_type": "execute_result"
    }
   ],
   "source": [
    "# encuentra  y determina el indice \n",
    "cadena.find(\"no\")"
   ]
  },
  {
   "cell_type": "code",
   "execution_count": 42,
   "id": "a1c16b97",
   "metadata": {},
   "outputs": [
    {
     "data": {
      "text/plain": [
       "62"
      ]
     },
     "execution_count": 42,
     "metadata": {},
     "output_type": "execute_result"
    }
   ],
   "source": [
    "cadena.index(\"el\")"
   ]
  },
  {
   "cell_type": "code",
   "execution_count": 43,
   "id": "5783d04a",
   "metadata": {},
   "outputs": [
    {
     "data": {
      "text/plain": [
       "3"
      ]
     },
     "execution_count": 43,
     "metadata": {},
     "output_type": "execute_result"
    }
   ],
   "source": [
    "# cuenta las veces que encuentranta\n",
    "\n",
    "cadena.count(\"Aunque\")\n"
   ]
  },
  {
   "cell_type": "markdown",
   "id": "5a74c01d",
   "metadata": {},
   "source": [
    "Reemplazar elementos de una cadena"
   ]
  },
  {
   "cell_type": "code",
   "execution_count": 44,
   "id": "f716fc09",
   "metadata": {},
   "outputs": [
    {
     "data": {
      "text/plain": [
       "'Quien bien anda bien acaba'"
      ]
     },
     "execution_count": 44,
     "metadata": {},
     "output_type": "execute_result"
    }
   ],
   "source": [
    "cadena = 'Quien mal anda mal acaba'\n",
    "\n",
    "cadena.replace(\"mal\",\"bien\")"
   ]
  },
  {
   "cell_type": "markdown",
   "id": "339e638a",
   "metadata": {},
   "source": [
    "Mayusculas y minusculas\n",
    "\n"
   ]
  },
  {
   "cell_type": "code",
   "execution_count": 46,
   "id": "be18fef9",
   "metadata": {},
   "outputs": [
    {
     "data": {
      "text/plain": [
       "'Quien mal anda mal acaba'"
      ]
     },
     "execution_count": 46,
     "metadata": {},
     "output_type": "execute_result"
    }
   ],
   "source": [
    "cadena = 'quien mal anda mal acaba'\n",
    "cadena.capitalize()"
   ]
  },
  {
   "cell_type": "code",
   "execution_count": 47,
   "id": "dbd3bd34",
   "metadata": {},
   "outputs": [
    {
     "data": {
      "text/plain": [
       "'Quien Mal Anda Mal Acaba'"
      ]
     },
     "execution_count": 47,
     "metadata": {},
     "output_type": "execute_result"
    }
   ],
   "source": [
    "cadena.title()"
   ]
  },
  {
   "cell_type": "code",
   "execution_count": 48,
   "id": "7e2cd4bc",
   "metadata": {},
   "outputs": [
    {
     "data": {
      "text/plain": [
       "'QUIEN MAL ANDA MAL ACABA'"
      ]
     },
     "execution_count": 48,
     "metadata": {},
     "output_type": "execute_result"
    }
   ],
   "source": [
    "cadena.upper()"
   ]
  },
  {
   "cell_type": "code",
   "execution_count": 49,
   "id": "ecc71cf6",
   "metadata": {},
   "outputs": [
    {
     "data": {
      "text/plain": [
       "'quien mal anda mal acaba'"
      ]
     },
     "execution_count": 49,
     "metadata": {},
     "output_type": "execute_result"
    }
   ],
   "source": [
    "cadena.lower()"
   ]
  },
  {
   "cell_type": "code",
   "execution_count": 50,
   "id": "836a8ffe",
   "metadata": {},
   "outputs": [
    {
     "data": {
      "text/plain": [
       "'QUIEN MAL ANDA MAL ACABA'"
      ]
     },
     "execution_count": 50,
     "metadata": {},
     "output_type": "execute_result"
    }
   ],
   "source": [
    "cadena.swapcase()"
   ]
  },
  {
   "cell_type": "markdown",
   "id": "f384889c",
   "metadata": {},
   "source": [
    "Identificando caracteres"
   ]
  },
  {
   "cell_type": "code",
   "execution_count": 51,
   "id": "3682c65c",
   "metadata": {},
   "outputs": [
    {
     "data": {
      "text/plain": [
       "True"
      ]
     },
     "execution_count": 51,
     "metadata": {},
     "output_type": "execute_result"
    }
   ],
   "source": [
    "'R2D2'.isalnum()"
   ]
  },
  {
   "cell_type": "code",
   "execution_count": 52,
   "id": "9b1fed5f",
   "metadata": {},
   "outputs": [
    {
     "data": {
      "text/plain": [
       "False"
      ]
     },
     "execution_count": 52,
     "metadata": {},
     "output_type": "execute_result"
    }
   ],
   "source": [
    "'R2+D2'.isalnum()"
   ]
  },
  {
   "cell_type": "code",
   "execution_count": 53,
   "id": "302bd005",
   "metadata": {},
   "outputs": [
    {
     "data": {
      "text/plain": [
       "True"
      ]
     },
     "execution_count": 53,
     "metadata": {},
     "output_type": "execute_result"
    }
   ],
   "source": [
    "'3123'.isnumeric()"
   ]
  },
  {
   "cell_type": "code",
   "execution_count": 55,
   "id": "fe8fd8f2",
   "metadata": {},
   "outputs": [
    {
     "data": {
      "text/plain": [
       "True"
      ]
     },
     "execution_count": 55,
     "metadata": {},
     "output_type": "execute_result"
    }
   ],
   "source": [
    "'abc'.isalpha()"
   ]
  },
  {
   "cell_type": "code",
   "execution_count": 56,
   "id": "17e5827c",
   "metadata": {},
   "outputs": [
    {
     "data": {
      "text/plain": [
       "True"
      ]
     },
     "execution_count": 56,
     "metadata": {},
     "output_type": "execute_result"
    }
   ],
   "source": [
    "'ASFD'.isupper()"
   ]
  },
  {
   "cell_type": "code",
   "execution_count": 57,
   "id": "79741d2b",
   "metadata": {},
   "outputs": [
    {
     "data": {
      "text/plain": [
       "True"
      ]
     },
     "execution_count": 57,
     "metadata": {},
     "output_type": "execute_result"
    }
   ],
   "source": [
    "'aslfdj'.islower()"
   ]
  },
  {
   "cell_type": "code",
   "execution_count": 1,
   "id": "0042b3cf",
   "metadata": {},
   "outputs": [
    {
     "data": {
      "text/plain": [
       "True"
      ]
     },
     "execution_count": 1,
     "metadata": {},
     "output_type": "execute_result"
    }
   ],
   "source": [
    "'Es Un Titulo'.istitle()"
   ]
  },
  {
   "cell_type": "markdown",
   "id": "57e95e31",
   "metadata": {},
   "source": [
    "Formateando Cadenas"
   ]
  },
  {
   "cell_type": "markdown",
   "id": "2268fba6",
   "metadata": {},
   "source": [
    "Los «f-strings» proporcionan una gran variedad de opciones de formateado: ancho del\n",
    "texto, número de decimales, tamaño de la cifra, alineación, etc."
   ]
  },
  {
   "cell_type": "code",
   "execution_count": 2,
   "id": "f6796d6f",
   "metadata": {},
   "outputs": [],
   "source": [
    "name = 'María Perez'\n",
    "edad = 30\n",
    "telefono ='32423423424'\n"
   ]
  },
  {
   "cell_type": "code",
   "execution_count": 3,
   "id": "7269ed74",
   "metadata": {},
   "outputs": [
    {
     "data": {
      "text/plain": [
       "'Me llamo María Perez, tengo 30 años y mi telefono es 32423423424'"
      ]
     },
     "execution_count": 3,
     "metadata": {},
     "output_type": "execute_result"
    }
   ],
   "source": [
    "f'Me llamo {name}, tengo {edad} años y mi telefono es {telefono}'\n"
   ]
  },
  {
   "cell_type": "code",
   "execution_count": 4,
   "id": "809af5f2",
   "metadata": {},
   "outputs": [
    {
     "data": {
      "text/plain": [
       "'El precio es       2332'"
      ]
     },
     "execution_count": 4,
     "metadata": {},
     "output_type": "execute_result"
    }
   ],
   "source": [
    "#formato de tamaño \n",
    "precio = 2332\n",
    "f'El precio es {precio:10d}'"
   ]
  },
  {
   "cell_type": "code",
   "execution_count": 5,
   "id": "ed2a7657",
   "metadata": {},
   "outputs": [
    {
     "data": {
      "text/plain": [
       "'El precio es 0000002332'"
      ]
     },
     "execution_count": 5,
     "metadata": {},
     "output_type": "execute_result"
    }
   ],
   "source": [
    "f'El precio es {precio:010d}'"
   ]
  },
  {
   "cell_type": "markdown",
   "id": "cef29a46",
   "metadata": {},
   "source": [
    "Formato con otras de bases de sistemas de numeración"
   ]
  },
  {
   "cell_type": "code",
   "execution_count": 6,
   "id": "6f1335b8",
   "metadata": {},
   "outputs": [
    {
     "data": {
      "text/plain": [
       "'170'"
      ]
     },
     "execution_count": 6,
     "metadata": {},
     "output_type": "execute_result"
    }
   ],
   "source": [
    "value = 0b0010101010\n",
    "f'{value}'"
   ]
  },
  {
   "cell_type": "code",
   "execution_count": 7,
   "id": "0412c434",
   "metadata": {},
   "outputs": [
    {
     "data": {
      "text/plain": [
       "'10101010'"
      ]
     },
     "execution_count": 7,
     "metadata": {},
     "output_type": "execute_result"
    }
   ],
   "source": [
    "f'{value:b}'"
   ]
  },
  {
   "cell_type": "code",
   "execution_count": 9,
   "id": "9461280c",
   "metadata": {},
   "outputs": [
    {
     "data": {
      "text/plain": [
       "'252'"
      ]
     },
     "execution_count": 9,
     "metadata": {},
     "output_type": "execute_result"
    }
   ],
   "source": [
    "f'{value:o}'"
   ]
  },
  {
   "cell_type": "code",
   "execution_count": 11,
   "id": "66021bf1",
   "metadata": {},
   "outputs": [
    {
     "data": {
      "text/plain": [
       "'aa'"
      ]
     },
     "execution_count": 11,
     "metadata": {},
     "output_type": "execute_result"
    }
   ],
   "source": [
    "f'{value:x}'"
   ]
  },
  {
   "cell_type": "markdown",
   "id": "53ad6a2c",
   "metadata": {},
   "source": [
    "Formato a valores flotantes\n"
   ]
  },
  {
   "cell_type": "code",
   "execution_count": 12,
   "id": "0edc5667",
   "metadata": {},
   "outputs": [],
   "source": [
    "pi = 3.141592654"
   ]
  },
  {
   "cell_type": "code",
   "execution_count": 13,
   "id": "355ce5e9",
   "metadata": {},
   "outputs": [
    {
     "data": {
      "text/plain": [
       "'3.141593'"
      ]
     },
     "execution_count": 13,
     "metadata": {},
     "output_type": "execute_result"
    }
   ],
   "source": [
    "f'{pi:f}'"
   ]
  },
  {
   "cell_type": "code",
   "execution_count": 14,
   "id": "b9d6e72d",
   "metadata": {},
   "outputs": [
    {
     "data": {
      "text/plain": [
       "'3.142'"
      ]
     },
     "execution_count": 14,
     "metadata": {},
     "output_type": "execute_result"
    }
   ],
   "source": [
    "f'{pi:.3f}'"
   ]
  },
  {
   "cell_type": "code",
   "execution_count": 15,
   "id": "94f3d989",
   "metadata": {},
   "outputs": [
    {
     "data": {
      "text/plain": [
       "'    3.141593'"
      ]
     },
     "execution_count": 15,
     "metadata": {},
     "output_type": "execute_result"
    }
   ],
   "source": [
    "f'{pi:12f}'"
   ]
  },
  {
   "cell_type": "code",
   "execution_count": 16,
   "id": "ae75ea06",
   "metadata": {},
   "outputs": [
    {
     "data": {
      "text/plain": [
       "'   3.14'"
      ]
     },
     "execution_count": 16,
     "metadata": {},
     "output_type": "execute_result"
    }
   ],
   "source": [
    "f'{pi:7.2f}'"
   ]
  },
  {
   "cell_type": "code",
   "execution_count": 18,
   "id": "bd7543f6",
   "metadata": {},
   "outputs": [
    {
     "data": {
      "text/plain": [
       "'0003.14'"
      ]
     },
     "execution_count": 18,
     "metadata": {},
     "output_type": "execute_result"
    }
   ],
   "source": [
    "f'{pi:07.2f}'"
   ]
  },
  {
   "cell_type": "code",
   "execution_count": 19,
   "id": "62a40d8c",
   "metadata": {},
   "outputs": [
    {
     "data": {
      "text/plain": [
       "'003.141593'"
      ]
     },
     "execution_count": 19,
     "metadata": {},
     "output_type": "execute_result"
    }
   ],
   "source": [
    "f'{pi:010f}'"
   ]
  },
  {
   "cell_type": "code",
   "execution_count": 20,
   "id": "50899dea",
   "metadata": {},
   "outputs": [
    {
     "data": {
      "text/plain": [
       "'3.141593e+00'"
      ]
     },
     "execution_count": 20,
     "metadata": {},
     "output_type": "execute_result"
    }
   ],
   "source": [
    "f'{pi:e}'"
   ]
  },
  {
   "cell_type": "markdown",
   "id": "4fb10b84",
   "metadata": {},
   "source": [
    "Alineando valores"
   ]
  },
  {
   "cell_type": "code",
   "execution_count": 23,
   "id": "c43b937f",
   "metadata": {},
   "outputs": [],
   "source": [
    "texto1 ='Como'\n",
    "texto2 ='estás'\n",
    "texto3 = 'tu'"
   ]
  },
  {
   "cell_type": "code",
   "execution_count": 24,
   "id": "6c192604",
   "metadata": {},
   "outputs": [
    {
     "data": {
      "text/plain": [
       "'Como   |   estás   |     tu'"
      ]
     },
     "execution_count": 24,
     "metadata": {},
     "output_type": "execute_result"
    }
   ],
   "source": [
    "f'{texto1:<7s}|{texto2:^11s}|{texto3:>7s}'"
   ]
  },
  {
   "cell_type": "markdown",
   "id": "476c81e9",
   "metadata": {},
   "source": [
    "Modo \"debug\"\n",
    "A partir de Python 3.8, los «f-strings» permiten imprimir el nombre de la variable y su valor,\n",
    "como un atajo para depurar nuestro código. Para ello sólo tenemos que incluir un símbolo =\n",
    "después del nombre de la variable:"
   ]
  },
  {
   "cell_type": "code",
   "execution_count": 25,
   "id": "face61a3",
   "metadata": {},
   "outputs": [],
   "source": [
    "nombre =\"Juana\"\n",
    "estatura = 1.54\n",
    "edad = 39"
   ]
  },
  {
   "cell_type": "code",
   "execution_count": 26,
   "id": "991ee83a",
   "metadata": {},
   "outputs": [
    {
     "data": {
      "text/plain": [
       "\"nombre='Juana'\""
      ]
     },
     "execution_count": 26,
     "metadata": {},
     "output_type": "execute_result"
    }
   ],
   "source": [
    "f'{nombre=}'"
   ]
  },
  {
   "cell_type": "code",
   "execution_count": 27,
   "id": "894dd685",
   "metadata": {},
   "outputs": [
    {
     "data": {
      "text/plain": [
       "'estatura=1.54'"
      ]
     },
     "execution_count": 27,
     "metadata": {},
     "output_type": "execute_result"
    }
   ],
   "source": [
    "f'{estatura=}'"
   ]
  },
  {
   "cell_type": "code",
   "execution_count": 28,
   "id": "13b17a7e",
   "metadata": {},
   "outputs": [
    {
     "data": {
      "text/plain": [
       "'edad=39'"
      ]
     },
     "execution_count": 28,
     "metadata": {},
     "output_type": "execute_result"
    }
   ],
   "source": [
    "f'{edad=}'"
   ]
  },
  {
   "cell_type": "code",
   "execution_count": 32,
   "id": "0bb2293f",
   "metadata": {},
   "outputs": [
    {
     "data": {
      "text/plain": [
       "\"nombre[2:]='ana'\""
      ]
     },
     "execution_count": 32,
     "metadata": {},
     "output_type": "execute_result"
    }
   ],
   "source": [
    "f'{nombre[2:]=}'"
   ]
  },
  {
   "cell_type": "code",
   "execution_count": 33,
   "id": "bbf4aa3e",
   "metadata": {},
   "outputs": [
    {
     "data": {
      "text/plain": [
       "'edad/estatura=25.324675324675326'"
      ]
     },
     "execution_count": 33,
     "metadata": {},
     "output_type": "execute_result"
    }
   ],
   "source": [
    "f'{edad/estatura=}'"
   ]
  }
 ],
 "metadata": {
  "kernelspec": {
   "display_name": "Python 3.10.6 64-bit",
   "language": "python",
   "name": "python3"
  },
  "language_info": {
   "codemirror_mode": {
    "name": "ipython",
    "version": 3
   },
   "file_extension": ".py",
   "mimetype": "text/x-python",
   "name": "python",
   "nbconvert_exporter": "python",
   "pygments_lexer": "ipython3",
   "version": "3.10.6"
  },
  "vscode": {
   "interpreter": {
    "hash": "52cf93b3245c947d64d0217858e618f9641697b5c808500ce60698e2564fce2d"
   }
  }
 },
 "nbformat": 4,
 "nbformat_minor": 5
}
